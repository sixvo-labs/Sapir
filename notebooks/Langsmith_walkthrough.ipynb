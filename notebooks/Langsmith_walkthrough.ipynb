{
  "cells": [
    {
      "cell_type": "markdown",
      "metadata": {
        "id": "view-in-github",
        "colab_type": "text"
      },
      "source": [
        "<a href=\"https://colab.research.google.com/github/sixvo-labs/Sapir/blob/main/Langsmith_walkthrough.ipynb\" target=\"_parent\"><img src=\"https://colab.research.google.com/assets/colab-badge.svg\" alt=\"Open In Colab\"/></a>"
      ]
    },
    {
      "cell_type": "markdown",
      "id": "1a4596ea-a631-416d-a2a4-3577c140493d",
      "metadata": {
        "tags": [],
        "id": "1a4596ea-a631-416d-a2a4-3577c140493d"
      },
      "source": [
        "# LangSmith Walkthrough\n",
        "[![Open In Collab](https://colab.research.google.com/assets/colab-badge.svg)](https://colab.research.google.com/github/langchain-ai/langchain/blob/master/docs/extras/guides/langsmith/walkthrough.ipynb)\n",
        "\n",
        "LangChain makes it easy to prototype LLM applications and Agents. However, delivering LLM applications to production can be deceptively difficult. You will likely have to heavily customize and iterate on your prompts, chains, and other components to create a high-quality product.\n",
        "\n",
        "To aid in this process, we've launched LangSmith, a unified platform for debugging, testing, and monitoring your LLM applications.\n",
        "\n",
        "When might this come in handy? You may find it useful when you want to:\n",
        "\n",
        "- Quickly debug a new chain, agent, or set of tools\n",
        "- Visualize how components (chains, llms, retrievers, etc.) relate and are used\n",
        "- Evaluate different prompts and LLMs for a single component\n",
        "- Run a given chain several times over a dataset to ensure it consistently meets a quality bar\n",
        "- Capture usage traces and using LLMs or analytics pipelines to generate insights"
      ]
    },
    {
      "cell_type": "markdown",
      "id": "138fbb8f-960d-4d26-9dd5-6d6acab3ee55",
      "metadata": {
        "id": "138fbb8f-960d-4d26-9dd5-6d6acab3ee55"
      },
      "source": [
        "## Prerequisites\n",
        "\n",
        "**[Create a LangSmith account](https://smith.langchain.com/) and create an API key (see bottom left corner). Familiarize yourself with the platform by looking through the [docs](https://docs.smith.langchain.com/)**\n",
        "\n",
        "Note LangSmith is in closed beta; we're in the process of rolling it out to more users. However, you can fill out the form on the website for expedited access.\n",
        "\n",
        "Now, let's get started!"
      ]
    },
    {
      "cell_type": "markdown",
      "id": "2d77d064-41b4-41fb-82e6-2d16461269ec",
      "metadata": {
        "tags": [],
        "id": "2d77d064-41b4-41fb-82e6-2d16461269ec"
      },
      "source": [
        "## Log runs to LangSmith\n",
        "\n",
        "First, configure your environment variables to tell LangChain to log traces. This is done by setting the `LANGCHAIN_TRACING_V2` environment variable to true.\n",
        "You can tell LangChain which project to log to by setting the `LANGCHAIN_PROJECT` environment variable (if this isn't set, runs will be logged to the `default` project). This will automatically create the project for you if it doesn't exist. You must also set the `LANGCHAIN_ENDPOINT` and `LANGCHAIN_API_KEY` environment variables.\n",
        "\n",
        "For more information on other ways to set up tracing, please reference the [LangSmith documentation](https://docs.smith.langchain.com/docs/).\n",
        "\n",
        "**NOTE:** You must also set your `OPENAI_API_KEY` environment variables in order to run the following tutorial.\n",
        "\n",
        "**NOTE:** You can only access an API key when you first create it. Keep it somewhere safe.\n",
        "\n",
        "**NOTE:** You can also use a context manager in python to log traces using\n",
        "```python\n",
        "from langchain.callbacks.manager import tracing_v2_enabled\n",
        "\n",
        "with tracing_v2_enabled(project_name=\"My Project\"):\n",
        "    agent.run(\"How many people live in canada as of 2023?\")\n",
        "```\n",
        "\n",
        "However, in this example, we will use environment variables."
      ]
    },
    {
      "cell_type": "code",
      "execution_count": null,
      "id": "e4780363-f05a-4649-8b1a-9b449f960ce4",
      "metadata": {
        "id": "e4780363-f05a-4649-8b1a-9b449f960ce4"
      },
      "outputs": [],
      "source": [
        "%pip install -U langchain langsmith langchainhub --quiet\n",
        "%pip install openai tiktoken pandas duckduckgo-search --quiet"
      ]
    },
    {
      "cell_type": "code",
      "execution_count": null,
      "id": "904db9a5-f387-4a57-914c-c8af8d39e249",
      "metadata": {
        "tags": [],
        "id": "904db9a5-f387-4a57-914c-c8af8d39e249"
      },
      "outputs": [],
      "source": [
        "import os\n",
        "from uuid import uuid4\n",
        "\n",
        "unique_id = uuid4().hex[0:8]\n",
        "os.environ[\"LANGCHAIN_TRACING_V2\"] = \"true\"\n",
        "os.environ[\"LANGCHAIN_PROJECT\"] = f\"Tracing Walkthrough - {unique_id}\"\n",
        "os.environ[\"LANGCHAIN_ENDPOINT\"] = \"https://api.smith.langchain.com\"\n",
        "os.environ[\"LANGCHAIN_API_KEY\"] = \"<YOUR-API-KEY>\"  # Update to your API key\n",
        "\n",
        "# Used by the agent in this tutorial\n",
        "os.environ[\"OPENAI_API_KEY\"] = \"<YOUR-OPENAI-API-KEY>\""
      ]
    },
    {
      "cell_type": "markdown",
      "id": "8ee7f34b-b65c-4e09-ad52-e3ace78d0221",
      "metadata": {
        "tags": [],
        "id": "8ee7f34b-b65c-4e09-ad52-e3ace78d0221"
      },
      "source": [
        "Create the langsmith client to interact with the API"
      ]
    },
    {
      "cell_type": "code",
      "execution_count": null,
      "id": "510b5ca0",
      "metadata": {
        "tags": [],
        "id": "510b5ca0"
      },
      "outputs": [],
      "source": [
        "from langsmith import Client\n",
        "\n",
        "client = Client()"
      ]
    },
    {
      "cell_type": "markdown",
      "id": "ca27fa11-ddce-4af0-971e-c5c37d5b92ef",
      "metadata": {
        "id": "ca27fa11-ddce-4af0-971e-c5c37d5b92ef"
      },
      "source": [
        "Create a LangChain component and log runs to the platform. In this example, we will create a ReAct-style agent with access to a general search tool (DuckDuckGo). The agent's prompt can be viewed in the [Hub here](https://smith.langchain.com/hub/wfh/langsmith-agent-prompt)."
      ]
    },
    {
      "cell_type": "code",
      "execution_count": null,
      "id": "a0fbfbba-3c82-4298-a312-9cec016d9d2e",
      "metadata": {
        "id": "a0fbfbba-3c82-4298-a312-9cec016d9d2e",
        "outputId": "246abc07-5f7e-43a3-9f1e-e155c877e487"
      },
      "outputs": [
        {
          "name": "stderr",
          "output_type": "stream",
          "text": [
            "/Users/wfh/code/lc/langchain/libs/langchain/langchain/__init__.py:24: UserWarning: Importing hub from langchain root module is no longer supported.\n",
            "  warnings.warn(\n"
          ]
        }
      ],
      "source": [
        "from langchain import hub\n",
        "from langchain.agents import AgentExecutor\n",
        "from langchain.agents.format_scratchpad import format_to_openai_functions\n",
        "from langchain.agents.output_parsers import OpenAIFunctionsAgentOutputParser\n",
        "from langchain.chat_models import ChatOpenAI\n",
        "from langchain.tools import DuckDuckGoSearchResults\n",
        "from langchain.tools.render import format_tool_to_openai_function\n",
        "\n",
        "# Fetches the latest version of this prompt\n",
        "prompt = hub.pull(\"wfh/langsmith-agent-prompt:latest\")\n",
        "\n",
        "llm = ChatOpenAI(\n",
        "    model=\"gpt-3.5-turbo-16k\",\n",
        "    temperature=0,\n",
        ")\n",
        "\n",
        "tools = [\n",
        "    DuckDuckGoSearchResults(\n",
        "        name=\"duck_duck_go\"\n",
        "    ),  # General internet search using DuckDuckGo\n",
        "]\n",
        "\n",
        "llm_with_tools = llm.bind(functions=[format_tool_to_openai_function(t) for t in tools])\n",
        "\n",
        "runnable_agent = (\n",
        "    {\n",
        "        \"input\": lambda x: x[\"input\"],\n",
        "        \"agent_scratchpad\": lambda x: format_to_openai_functions(\n",
        "            x[\"intermediate_steps\"]\n",
        "        ),\n",
        "    }\n",
        "    | prompt\n",
        "    | llm_with_tools\n",
        "    | OpenAIFunctionsAgentOutputParser()\n",
        ")\n",
        "\n",
        "agent_executor = AgentExecutor(\n",
        "    agent=runnable_agent, tools=tools, handle_parsing_errors=True\n",
        ")"
      ]
    },
    {
      "cell_type": "markdown",
      "id": "cab51e1e-8270-452c-ba22-22b5b5951899",
      "metadata": {
        "id": "cab51e1e-8270-452c-ba22-22b5b5951899"
      },
      "source": [
        "We are running the agent concurrently on multiple inputs to reduce latency. Runs get logged to LangSmith in the background so execution latency is unaffected."
      ]
    },
    {
      "cell_type": "code",
      "execution_count": null,
      "id": "19537902-b95c-4390-80a4-f6c9a937081e",
      "metadata": {
        "tags": [],
        "id": "19537902-b95c-4390-80a4-f6c9a937081e"
      },
      "outputs": [],
      "source": [
        "inputs = [\n",
        "    \"What is LangChain?\",\n",
        "    \"What's LangSmith?\",\n",
        "    \"When was Llama-v2 released?\",\n",
        "    \"Who trained Llama-v2?\",\n",
        "    \"What is the langsmith cookbook?\",\n",
        "    \"When did langchain first announce the hub?\",\n",
        "]\n",
        "\n",
        "results = agent_executor.batch([{\"input\": x} for x in inputs], return_exceptions=True)"
      ]
    },
    {
      "cell_type": "code",
      "execution_count": null,
      "id": "9a6a764c-5d7a-4de7-a916-3ecc987d5bb6",
      "metadata": {
        "id": "9a6a764c-5d7a-4de7-a916-3ecc987d5bb6",
        "outputId": "85008ae8-4e73-4e6d-a5f8-847bffd01705"
      },
      "outputs": [
        {
          "data": {
            "text/plain": [
              "[{'input': 'What is LangChain?',\n",
              "  'output': 'I\\'m sorry, but I couldn\\'t find any information about \"LangChain\". Could you please provide more context or clarify your question?'},\n",
              " {'input': \"What's LangSmith?\",\n",
              "  'output': 'I\\'m sorry, but I couldn\\'t find any information about \"LangSmith\". It could be a company, a product, or a person. Can you provide more context or details about what you are referring to?'}]"
            ]
          },
          "execution_count": 6,
          "metadata": {},
          "output_type": "execute_result"
        }
      ],
      "source": [
        "results[:2]"
      ]
    },
    {
      "cell_type": "markdown",
      "id": "9decb964-be07-4b6c-9802-9825c8be7b64",
      "metadata": {
        "id": "9decb964-be07-4b6c-9802-9825c8be7b64"
      },
      "source": [
        "Assuming you've successfully set up your environment, your agent traces should show up in the `Projects` section in the [app](https://smith.langchain.com/). Congrats!\n",
        "\n",
        "![Initial Runs](https://github.com/langchain-ai/langchain/blob/master/docs/extras/guides/langsmith/img/log_traces.png?raw=1)\n",
        "\n",
        "It looks like the agent isn't effectively using the tools though. Let's evaluate this so we have a baseline."
      ]
    },
    {
      "cell_type": "markdown",
      "id": "6c43c311-4e09-4d57-9ef3-13afb96ff430",
      "metadata": {
        "id": "6c43c311-4e09-4d57-9ef3-13afb96ff430"
      },
      "source": [
        "## Evaluate Agent\n",
        "\n",
        "In addition to logging runs, LangSmith also allows you to test and evaluate your LLM applications.\n",
        "\n",
        "In this section, you will leverage LangSmith to create a benchmark dataset and run AI-assisted evaluators on an agent. You will do so in a few steps:\n",
        "\n",
        "1. Create a dataset\n",
        "2. Initialize a new agent to benchmark\n",
        "3. Configure evaluators to grade an agent's output\n",
        "4. Run the agent over the dataset and evaluate the results"
      ]
    },
    {
      "cell_type": "markdown",
      "id": "beab1a29-b79d-4a99-b5b1-0870c2d772b1",
      "metadata": {
        "id": "beab1a29-b79d-4a99-b5b1-0870c2d772b1"
      },
      "source": [
        "### 1. Create a LangSmith dataset\n",
        "\n",
        "Below, we use the LangSmith client to create a dataset from the input questions from above and a list labels. You will use these later to measure performance for a new agent. A dataset is a collection of examples, which are nothing more than input-output pairs you can use as test cases to your application.\n",
        "\n",
        "For more information on datasets, including how to create them from CSVs or other files or how to create them in the platform, please refer to the [LangSmith documentation](https://docs.smith.langchain.com/)."
      ]
    },
    {
      "cell_type": "code",
      "execution_count": null,
      "id": "43fd40b2-3f02-4e51-9343-705aafe90a36",
      "metadata": {
        "id": "43fd40b2-3f02-4e51-9343-705aafe90a36"
      },
      "outputs": [],
      "source": [
        "outputs = [\n",
        "    \"LangChain is an open-source framework for building applications using large language models. It is also the name of the company building LangSmith.\",\n",
        "    \"LangSmith is a unified platform for debugging, testing, and monitoring language model applications and agents powered by LangChain\",\n",
        "    \"July 18, 2023\",\n",
        "    \"The langsmith cookbook is a github repository containing detailed examples of how to use LangSmith to debug, evaluate, and monitor large language model-powered applications.\",\n",
        "    \"September 5, 2023\",\n",
        "]"
      ]
    },
    {
      "cell_type": "code",
      "execution_count": null,
      "id": "17580c4b-bd04-4dde-9d21-9d4edd25b00d",
      "metadata": {
        "tags": [],
        "id": "17580c4b-bd04-4dde-9d21-9d4edd25b00d"
      },
      "outputs": [],
      "source": [
        "dataset_name = f\"agent-qa-{unique_id}\"\n",
        "\n",
        "dataset = client.create_dataset(\n",
        "    dataset_name, description=\"An example dataset of questions over the LangSmith documentation.\"\n",
        ")\n",
        "\n",
        "for query, answer in zip(inputs, outputs):\n",
        "    client.create_example(inputs={\"input\": query}, outputs={\"output\": answer}, dataset_id=dataset.id)"
      ]
    },
    {
      "cell_type": "markdown",
      "id": "8adfd29c-b258-49e5-94b4-74597a12ba16",
      "metadata": {
        "tags": [],
        "id": "8adfd29c-b258-49e5-94b4-74597a12ba16"
      },
      "source": [
        "### 2. Initialize a new agent to benchmark\n",
        "\n",
        "LangSmith lets you evaluate any LLM, chain, agent, or even a custom function. Conversational agents are stateful (they have memory); to ensure that this state isn't shared between dataset runs, we will pass in a `chain_factory` (aka a `constructor`) function to initialize for each call.\n",
        "\n",
        "In this case, we will test an agent that uses OpenAI's function calling endpoints."
      ]
    },
    {
      "cell_type": "code",
      "execution_count": null,
      "id": "f42d8ecc-d46a-448b-a89c-04b0f6907f75",
      "metadata": {
        "tags": [],
        "id": "f42d8ecc-d46a-448b-a89c-04b0f6907f75"
      },
      "outputs": [],
      "source": [
        "from langchain.chat_models import ChatOpenAI\n",
        "from langchain.agents import AgentType, initialize_agent, load_tools, AgentExecutor\n",
        "from langchain.agents.format_scratchpad import format_to_openai_functions\n",
        "from langchain.agents.output_parsers import OpenAIFunctionsAgentOutputParser\n",
        "from langchain.tools.render import format_tool_to_openai_function\n",
        "from langchain import hub\n",
        "\n",
        "\n",
        "# Since chains can be stateful (e.g. they can have memory), we provide\n",
        "# a way to initialize a new chain for each row in the dataset. This is done\n",
        "# by passing in a factory function that returns a new chain for each row.\n",
        "def agent_factory(prompt):\n",
        "    llm_with_tools = llm.bind(\n",
        "        functions=[format_tool_to_openai_function(t) for t in tools]\n",
        "    )\n",
        "    runnable_agent = (\n",
        "            {\n",
        "                \"input\": lambda x: x[\"input\"],\n",
        "                \"agent_scratchpad\": lambda x: format_to_openai_functions(x['intermediate_steps'])\n",
        "            }\n",
        "             | prompt\n",
        "             | llm_with_tools\n",
        "             | OpenAIFunctionsAgentOutputParser()\n",
        "    )\n",
        "    return  AgentExecutor(agent=runnable_agent, tools=tools, handle_parsing_errors=True)\n"
      ]
    },
    {
      "cell_type": "markdown",
      "id": "9cb9ef53",
      "metadata": {
        "id": "9cb9ef53"
      },
      "source": [
        "### 3. Configure evaluation\n",
        "\n",
        "Manually comparing the results of chains in the UI is effective, but it can be time consuming.\n",
        "It can be helpful to use automated metrics and AI-assisted feedback to evaluate your component's performance.\n",
        "\n",
        "Below, we will create some pre-implemented run evaluators that do the following:\n",
        "- Compare results against ground truth labels.\n",
        "- Measure semantic (dis)similarity using embedding distance\n",
        "- Evaluate 'aspects' of the agent's response in a reference-free manner using custom criteria\n",
        "\n",
        "For a longer discussion of how to select an appropriate evaluator for your use case and how to create your own\n",
        "custom evaluators, please refer to the [LangSmith documentation](https://docs.smith.langchain.com/).\n"
      ]
    },
    {
      "cell_type": "code",
      "execution_count": null,
      "id": "a25dc281",
      "metadata": {
        "tags": [],
        "id": "a25dc281"
      },
      "outputs": [],
      "source": [
        "from langchain.evaluation import EvaluatorType\n",
        "from langchain.smith import RunEvalConfig\n",
        "\n",
        "evaluation_config = RunEvalConfig(\n",
        "    # Evaluators can either be an evaluator type (e.g., \"qa\", \"criteria\", \"embedding_distance\", etc.) or a configuration for that evaluator\n",
        "    evaluators=[\n",
        "        # Measures whether a QA response is \"Correct\", based on a reference answer\n",
        "        # You can also select via the raw string \"qa\"\n",
        "        EvaluatorType.QA,\n",
        "        # Measure the embedding distance between the output and the reference answer\n",
        "        # Equivalent to: EvalConfig.EmbeddingDistance(embeddings=OpenAIEmbeddings())\n",
        "        EvaluatorType.EMBEDDING_DISTANCE,\n",
        "        # Grade whether the output satisfies the stated criteria. You can select a default one such as \"helpfulness\" or provide your own.\n",
        "        RunEvalConfig.LabeledCriteria(\"helpfulness\"),\n",
        "        # Both the Criteria and LabeledCriteria evaluators can be configured with a dictionary of custom criteria.\n",
        "        RunEvalConfig.Criteria(\n",
        "            {\n",
        "                \"fifth-grader-score\": \"Do you have to be smarter than a fifth grader to answer this question? Y if so.\"\n",
        "            }\n",
        "        ),\n",
        "    ],\n",
        "    # You can add custom StringEvaluator or RunEvaluator objects here as well, which will automatically be\n",
        "    # applied to each prediction. Check out the docs for examples.\n",
        "    custom_evaluators=[],\n",
        ")"
      ]
    },
    {
      "cell_type": "markdown",
      "id": "07885b10",
      "metadata": {
        "tags": [],
        "id": "07885b10"
      },
      "source": [
        "### 4. Run the agent and evaluators\n",
        "\n",
        "Use the [run_on_dataset](https://api.python.langchain.com/en/latest/smith/langchain.smith.evaluation.runner_utils.run_on_dataset.html#langchain.smith.evaluation.runner_utils.run_on_dataset) (or asynchronous [arun_on_dataset](https://api.python.langchain.com/en/latest/smith/langchain.smith.evaluation.runner_utils.arun_on_dataset.html#langchain.smith.evaluation.runner_utils.arun_on_dataset)) function to evaluate your model. This will:\n",
        "1. Fetch example rows from the specified dataset.\n",
        "2. Run your agent (or any custom function) on each example.\n",
        "3. Apply evalutors to the resulting run traces and corresponding reference examples to generate automated feedback.\n",
        "\n",
        "The results will be visible in the LangSmith app."
      ]
    },
    {
      "cell_type": "code",
      "execution_count": null,
      "id": "af8c8469-d70d-46d9-8fcd-517a1ccc7c4b",
      "metadata": {
        "id": "af8c8469-d70d-46d9-8fcd-517a1ccc7c4b"
      },
      "outputs": [],
      "source": [
        "from langchain import hub\n",
        "\n",
        "# We will test this version of the prompt\n",
        "prompt = hub.pull(\"wfh/langsmith-agent-prompt:798e7324\")"
      ]
    },
    {
      "cell_type": "code",
      "execution_count": null,
      "id": "3733269b-8085-4644-9d5d-baedcff13a2f",
      "metadata": {
        "tags": [],
        "id": "3733269b-8085-4644-9d5d-baedcff13a2f",
        "outputId": "8a2d9ba1-b038-40e0-f920-8cf609bab643"
      },
      "outputs": [
        {
          "name": "stdout",
          "output_type": "stream",
          "text": [
            "View the evaluation results for project 'runnable-agent-test-5d466cbc-1d7fb5e9' at:\n",
            "https://smith.langchain.com/o/ebbaf2eb-769b-4505-aca2-d11de10372a4/projects/p/c61cbfbc-2d55-4763-9844-92fd528637fe\n",
            "[>                                                 ] 0/5"
          ]
        },
        {
          "name": "stderr",
          "output_type": "stream",
          "text": [
            "Chain failed for example f75887fc-8b00-4123-b0f9-8b12b1ed4a32 with inputs {'input': 'Who trained Llama-v2?'}\n",
            "Error Type: TypeError, Message: DuckDuckGoSearchResults._run() got an unexpected keyword argument 'arg1'\n"
          ]
        },
        {
          "name": "stdout",
          "output_type": "stream",
          "text": [
            "[--------------------------------------->          ] 4/5\n",
            " Eval quantiles:\n",
            "                               0.25       0.5      0.75     mean      mode\n",
            "embedding_cosine_distance  0.085513  0.143134  0.219651  0.16203  0.044081\n",
            "correctness                0.000000  0.500000  1.000000  0.50000  0.000000\n",
            "fifth-grader-score         1.000000  1.000000  1.000000  1.00000  1.000000\n",
            "helpfulness                0.750000  1.000000  1.000000  0.75000  1.000000\n"
          ]
        }
      ],
      "source": [
        "import functools\n",
        "from langchain.smith import (\n",
        "    arun_on_dataset,\n",
        "    run_on_dataset,\n",
        ")\n",
        "\n",
        "chain_results = run_on_dataset(\n",
        "    dataset_name=dataset_name,\n",
        "    llm_or_chain_factory=functools.partial(agent_factory, prompt=prompt),\n",
        "    evaluation=evaluation_config,\n",
        "    verbose=True,\n",
        "    client=client,\n",
        "    project_name=f\"runnable-agent-test-5d466cbc-{unique_id}\",\n",
        "    tags=[\"testing-notebook\", \"prompt:5d466cbc\"],  # Optional, adds a tag to the resulting chain runs\n",
        ")\n",
        "\n",
        "# Sometimes, the agent will error due to parsing issues, incompatible tool inputs, etc.\n",
        "# These are logged as warnings here and captured as errors in the tracing UI."
      ]
    },
    {
      "cell_type": "markdown",
      "id": "cdacd159-eb4d-49e9-bb2a-c55322c40ed4",
      "metadata": {
        "tags": [],
        "id": "cdacd159-eb4d-49e9-bb2a-c55322c40ed4"
      },
      "source": [
        "### Review the test results\n",
        "\n",
        "You can review the test results tracing UI below by clicking the URL in the output above or navigating to the \"Testing & Datasets\" page in LangSmith  **\"agent-qa-{unique_id}\"** dataset.\n",
        "\n",
        "![test results](https://github.com/langchain-ai/langchain/blob/master/docs/extras/guides/langsmith/img/test_results.png?raw=1)\n",
        "\n",
        "This will show the new runs and the feedback logged from the selected evaluators. You can also explore a summary of the results in tabular format below."
      ]
    },
    {
      "cell_type": "code",
      "execution_count": null,
      "id": "9da60638-5be8-4b5f-a721-2c6627aeaf0c",
      "metadata": {
        "id": "9da60638-5be8-4b5f-a721-2c6627aeaf0c",
        "outputId": "07f8f80a-faa6-4637-bbc2-ab80404242f7"
      },
      "outputs": [
        {
          "data": {
            "text/html": [
              "<div>\n",
              "<style scoped>\n",
              "    .dataframe tbody tr th:only-of-type {\n",
              "        vertical-align: middle;\n",
              "    }\n",
              "\n",
              "    .dataframe tbody tr th {\n",
              "        vertical-align: top;\n",
              "    }\n",
              "\n",
              "    .dataframe thead th {\n",
              "        text-align: right;\n",
              "    }\n",
              "</style>\n",
              "<table border=\"1\" class=\"dataframe\">\n",
              "  <thead>\n",
              "    <tr style=\"text-align: right;\">\n",
              "      <th></th>\n",
              "      <th>embedding_cosine_distance</th>\n",
              "      <th>correctness</th>\n",
              "      <th>fifth-grader-score</th>\n",
              "      <th>helpfulness</th>\n",
              "      <th>input</th>\n",
              "      <th>output</th>\n",
              "      <th>reference</th>\n",
              "    </tr>\n",
              "  </thead>\n",
              "  <tbody>\n",
              "    <tr>\n",
              "      <th>0eefc54a-066f-426b-883a-b096a09f6288</th>\n",
              "      <td>0.317772</td>\n",
              "      <td>0.0</td>\n",
              "      <td>1.0</td>\n",
              "      <td>1.0</td>\n",
              "      <td>{'input': 'What is the langsmith cookbook?'}</td>\n",
              "      <td>{'input': 'What is the langsmith cookbook?', '...</td>\n",
              "      <td>{'output': 'September 5, 2023'}</td>\n",
              "    </tr>\n",
              "    <tr>\n",
              "      <th>f75887fc-8b00-4123-b0f9-8b12b1ed4a32</th>\n",
              "      <td>NaN</td>\n",
              "      <td>NaN</td>\n",
              "      <td>NaN</td>\n",
              "      <td>NaN</td>\n",
              "      <td>{'input': 'Who trained Llama-v2?'}</td>\n",
              "      <td>{'Error': 'TypeError(\"DuckDuckGoSearchResults....</td>\n",
              "      <td>{'output': 'The langsmith cookbook is a github...</td>\n",
              "    </tr>\n",
              "    <tr>\n",
              "      <th>3cd56bc4-b3f3-43f5-9893-2eb0ff8dbdb6</th>\n",
              "      <td>0.186944</td>\n",
              "      <td>1.0</td>\n",
              "      <td>1.0</td>\n",
              "      <td>1.0</td>\n",
              "      <td>{'input': 'When was Llama-v2 released?'}</td>\n",
              "      <td>{'input': 'When was Llama-v2 released?', 'outp...</td>\n",
              "      <td>{'output': 'July 18, 2023'}</td>\n",
              "    </tr>\n",
              "    <tr>\n",
              "      <th>244cff41-198e-4441-8248-d095bebbfd16</th>\n",
              "      <td>0.044081</td>\n",
              "      <td>1.0</td>\n",
              "      <td>1.0</td>\n",
              "      <td>1.0</td>\n",
              "      <td>{'input': 'What's LangSmith?'}</td>\n",
              "      <td>{'input': 'What's LangSmith?', 'output': 'Lang...</td>\n",
              "      <td>{'output': 'LangSmith is a unified platform fo...</td>\n",
              "    </tr>\n",
              "    <tr>\n",
              "      <th>2272dbe6-0b6f-476b-b9d4-48c38f481a12</th>\n",
              "      <td>0.099323</td>\n",
              "      <td>0.0</td>\n",
              "      <td>1.0</td>\n",
              "      <td>0.0</td>\n",
              "      <td>{'input': 'What is LangChain?'}</td>\n",
              "      <td>{'input': 'What is LangChain?', 'output': 'Lan...</td>\n",
              "      <td>{'output': 'LangChain is an open-source framew...</td>\n",
              "    </tr>\n",
              "  </tbody>\n",
              "</table>\n",
              "</div>"
            ],
            "text/plain": [
              "                                      embedding_cosine_distance  correctness  \\\n",
              "0eefc54a-066f-426b-883a-b096a09f6288                   0.317772          0.0   \n",
              "f75887fc-8b00-4123-b0f9-8b12b1ed4a32                        NaN          NaN   \n",
              "3cd56bc4-b3f3-43f5-9893-2eb0ff8dbdb6                   0.186944          1.0   \n",
              "244cff41-198e-4441-8248-d095bebbfd16                   0.044081          1.0   \n",
              "2272dbe6-0b6f-476b-b9d4-48c38f481a12                   0.099323          0.0   \n",
              "\n",
              "                                      fifth-grader-score  helpfulness  \\\n",
              "0eefc54a-066f-426b-883a-b096a09f6288                 1.0          1.0   \n",
              "f75887fc-8b00-4123-b0f9-8b12b1ed4a32                 NaN          NaN   \n",
              "3cd56bc4-b3f3-43f5-9893-2eb0ff8dbdb6                 1.0          1.0   \n",
              "244cff41-198e-4441-8248-d095bebbfd16                 1.0          1.0   \n",
              "2272dbe6-0b6f-476b-b9d4-48c38f481a12                 1.0          0.0   \n",
              "\n",
              "                                                                             input  \\\n",
              "0eefc54a-066f-426b-883a-b096a09f6288  {'input': 'What is the langsmith cookbook?'}   \n",
              "f75887fc-8b00-4123-b0f9-8b12b1ed4a32            {'input': 'Who trained Llama-v2?'}   \n",
              "3cd56bc4-b3f3-43f5-9893-2eb0ff8dbdb6      {'input': 'When was Llama-v2 released?'}   \n",
              "244cff41-198e-4441-8248-d095bebbfd16                {'input': 'What's LangSmith?'}   \n",
              "2272dbe6-0b6f-476b-b9d4-48c38f481a12               {'input': 'What is LangChain?'}   \n",
              "\n",
              "                                                                                 output  \\\n",
              "0eefc54a-066f-426b-883a-b096a09f6288  {'input': 'What is the langsmith cookbook?', '...   \n",
              "f75887fc-8b00-4123-b0f9-8b12b1ed4a32  {'Error': 'TypeError(\"DuckDuckGoSearchResults....   \n",
              "3cd56bc4-b3f3-43f5-9893-2eb0ff8dbdb6  {'input': 'When was Llama-v2 released?', 'outp...   \n",
              "244cff41-198e-4441-8248-d095bebbfd16  {'input': 'What's LangSmith?', 'output': 'Lang...   \n",
              "2272dbe6-0b6f-476b-b9d4-48c38f481a12  {'input': 'What is LangChain?', 'output': 'Lan...   \n",
              "\n",
              "                                                                              reference  \n",
              "0eefc54a-066f-426b-883a-b096a09f6288                    {'output': 'September 5, 2023'}  \n",
              "f75887fc-8b00-4123-b0f9-8b12b1ed4a32  {'output': 'The langsmith cookbook is a github...  \n",
              "3cd56bc4-b3f3-43f5-9893-2eb0ff8dbdb6                        {'output': 'July 18, 2023'}  \n",
              "244cff41-198e-4441-8248-d095bebbfd16  {'output': 'LangSmith is a unified platform fo...  \n",
              "2272dbe6-0b6f-476b-b9d4-48c38f481a12  {'output': 'LangChain is an open-source framew...  "
            ]
          },
          "execution_count": 13,
          "metadata": {},
          "output_type": "execute_result"
        }
      ],
      "source": [
        "chain_results.to_dataframe()"
      ]
    },
    {
      "cell_type": "markdown",
      "id": "13aad317-73ff-46a7-a5a0-60b5b5295f02",
      "metadata": {
        "id": "13aad317-73ff-46a7-a5a0-60b5b5295f02"
      },
      "source": [
        "### (Optional) Compare to another prompt\n",
        "\n",
        "Now that we have our test run results, we can make changes to our agent and benchmark them. Let's try this again with a different prompt and see the results."
      ]
    },
    {
      "cell_type": "code",
      "execution_count": null,
      "id": "5eeb023f-ded2-4d0f-b910-2a57d9675853",
      "metadata": {
        "id": "5eeb023f-ded2-4d0f-b910-2a57d9675853",
        "outputId": "d9fb7c22-8f46-4d95-fd8b-8b60163e062e"
      },
      "outputs": [
        {
          "name": "stdout",
          "output_type": "stream",
          "text": [
            "View the evaluation results for project 'runnable-agent-test-39f3bbd0-1d7fb5e9' at:\n",
            "https://smith.langchain.com/o/ebbaf2eb-769b-4505-aca2-d11de10372a4/projects/p/04b8a9ba-37a0-44e6-9e46-aa231be64c6d\n",
            "[------------------------------------------------->] 5/5\n",
            " Eval quantiles:\n",
            "                               0.25       0.5      0.75      mean      mode\n",
            "embedding_cosine_distance  0.067353  0.138474  0.243327  0.163574  0.050973\n",
            "correctness                0.000000  1.000000  1.000000  0.600000  1.000000\n",
            "helpfulness                1.000000  1.000000  1.000000  0.800000  1.000000\n",
            "fifth-grader-score         1.000000  1.000000  1.000000  1.000000  1.000000\n"
          ]
        }
      ],
      "source": [
        "candidate_prompt = hub.pull(\"wfh/langsmith-agent-prompt:39f3bbd0\")\n",
        "\n",
        "chain_results = run_on_dataset(\n",
        "    dataset_name=dataset_name,\n",
        "    llm_or_chain_factory=functools.partial(agent_factory, prompt=candidate_prompt),\n",
        "    evaluation=evaluation_config,\n",
        "    verbose=True,\n",
        "    client=client,\n",
        "    project_name=f\"runnable-agent-test-39f3bbd0-{unique_id}\",\n",
        "    tags=[\"testing-notebook\", \"prompt:39f3bbd0\"],  # Optional, adds a tag to the resulting chain runs\n",
        ")"
      ]
    },
    {
      "cell_type": "markdown",
      "id": "591c819e-9932-45cf-adab-63727dd49559",
      "metadata": {
        "id": "591c819e-9932-45cf-adab-63727dd49559"
      },
      "source": [
        "## Exporting datasets and runs\n",
        "\n",
        "LangSmith lets you export data to common formats such as CSV or JSONL directly in the web app. You can also use the client to fetch runs for further analysis, to store in your own database, or to share with others. Let's fetch the run traces from the evaluation run.\n",
        "\n",
        "**Note: It may be a few moments before all the runs are accessible.**"
      ]
    },
    {
      "cell_type": "code",
      "execution_count": null,
      "id": "33bfefde-d1bb-4f50-9f7a-fd572ee76820",
      "metadata": {
        "tags": [],
        "id": "33bfefde-d1bb-4f50-9f7a-fd572ee76820"
      },
      "outputs": [],
      "source": [
        "runs = client.list_runs(project_name=chain_results[\"project_name\"], execution_order=1)"
      ]
    },
    {
      "cell_type": "code",
      "execution_count": null,
      "id": "6595c888-1f5c-4ae3-9390-0a559f5575d1",
      "metadata": {
        "tags": [],
        "id": "6595c888-1f5c-4ae3-9390-0a559f5575d1"
      },
      "outputs": [],
      "source": [
        "# After some time, these will be populated.\n",
        "client.read_project(project_name=chain_results[\"project_name\"]).feedback_stats"
      ]
    },
    {
      "cell_type": "markdown",
      "id": "2646f0fb-81d4-43ce-8a9b-54b8e19841e2",
      "metadata": {
        "tags": [],
        "id": "2646f0fb-81d4-43ce-8a9b-54b8e19841e2"
      },
      "source": [
        "## Conclusion\n",
        "\n",
        "Congratulations! You have succesfully traced and evaluated an agent using LangSmith!\n",
        "\n",
        "This was a quick guide to get started, but there are many more ways to use LangSmith to speed up your developer flow and produce better results.\n",
        "\n",
        "For more information on how you can get the most out of LangSmith, check out [LangSmith documentation](https://docs.smith.langchain.com/), and please reach out with questions, feature requests, or feedback at [support@langchain.dev](mailto:support@langchain.dev)."
      ]
    }
  ],
  "metadata": {
    "kernelspec": {
      "display_name": "Python 3 (ipykernel)",
      "language": "python",
      "name": "python3"
    },
    "language_info": {
      "codemirror_mode": {
        "name": "ipython",
        "version": 3
      },
      "file_extension": ".py",
      "mimetype": "text/x-python",
      "name": "python",
      "nbconvert_exporter": "python",
      "pygments_lexer": "ipython3",
      "version": "3.11.2"
    },
    "colab": {
      "provenance": [],
      "include_colab_link": true
    }
  },
  "nbformat": 4,
  "nbformat_minor": 5
}