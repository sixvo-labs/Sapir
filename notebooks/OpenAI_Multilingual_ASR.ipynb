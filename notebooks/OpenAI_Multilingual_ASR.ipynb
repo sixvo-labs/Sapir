{
  "cells": [
    {
      "cell_type": "markdown",
      "metadata": {
        "id": "view-in-github",
        "colab_type": "text"
      },
      "source": [
        "<a href=\"https://colab.research.google.com/github/sixvo-labs/Sapir/blob/main/Copy_of_OpenAI_Multilingual_ASR_try.ipynb\" target=\"_parent\"><img src=\"https://colab.research.google.com/assets/colab-badge.svg\" alt=\"Open In Colab\"/></a>"
      ]
    },
    {
      "cell_type": "markdown",
      "metadata": {
        "id": "v5hvo8QWN-a9"
      },
      "source": [
        "# Installing Whisper\n",
        "\n",
        "The commands below will install the Python packages needed to use Whisper models and evaluate the transcription results."
      ]
    },
    {
      "cell_type": "code",
      "execution_count": null,
      "metadata": {
        "id": "ZsJUxc0aRsAf",
        "outputId": "5b8e853b-e9bd-4506-ea30-2663b53f3a50",
        "colab": {
          "base_uri": "https://localhost:8080/"
        }
      },
      "outputs": [
        {
          "output_type": "stream",
          "name": "stdout",
          "text": [
            "Looking in indexes: https://pypi.org/simple, https://us-python.pkg.dev/colab-wheels/public/simple/\n",
            "Collecting git+https://github.com/openai/whisper.git\n",
            "  Cloning https://github.com/openai/whisper.git to /tmp/pip-req-build-f96j_5pd\n",
            "  Running command git clone -q https://github.com/openai/whisper.git /tmp/pip-req-build-f96j_5pd\n",
            "Requirement already satisfied: numpy in /usr/local/lib/python3.7/dist-packages (from whisper==1.0) (1.21.6)\n",
            "Requirement already satisfied: torch in /usr/local/lib/python3.7/dist-packages (from whisper==1.0) (1.12.1+cu113)\n",
            "Requirement already satisfied: tqdm in /usr/local/lib/python3.7/dist-packages (from whisper==1.0) (4.64.1)\n",
            "Requirement already satisfied: more_itertools in /usr/local/lib/python3.7/dist-packages (from whisper==1.0) (8.14.0)\n",
            "Collecting transformers>=4.19.0\n",
            "  Downloading transformers-4.22.1-py3-none-any.whl (4.9 MB)\n",
            "\u001b[K     |████████████████████████████████| 4.9 MB 4.7 MB/s \n",
            "\u001b[?25hCollecting ffmpeg-python==0.2.0\n",
            "  Downloading ffmpeg_python-0.2.0-py3-none-any.whl (25 kB)\n",
            "Requirement already satisfied: future in /usr/local/lib/python3.7/dist-packages (from ffmpeg-python==0.2.0->whisper==1.0) (0.16.0)\n",
            "Collecting huggingface-hub<1.0,>=0.9.0\n",
            "  Downloading huggingface_hub-0.9.1-py3-none-any.whl (120 kB)\n",
            "\u001b[K     |████████████████████████████████| 120 kB 54.7 MB/s \n",
            "\u001b[?25hRequirement already satisfied: packaging>=20.0 in /usr/local/lib/python3.7/dist-packages (from transformers>=4.19.0->whisper==1.0) (21.3)\n",
            "Requirement already satisfied: regex!=2019.12.17 in /usr/local/lib/python3.7/dist-packages (from transformers>=4.19.0->whisper==1.0) (2022.6.2)\n",
            "Requirement already satisfied: requests in /usr/local/lib/python3.7/dist-packages (from transformers>=4.19.0->whisper==1.0) (2.23.0)\n",
            "Collecting tokenizers!=0.11.3,<0.13,>=0.11.1\n",
            "  Downloading tokenizers-0.12.1-cp37-cp37m-manylinux_2_12_x86_64.manylinux2010_x86_64.whl (6.6 MB)\n",
            "\u001b[K     |████████████████████████████████| 6.6 MB 55.7 MB/s \n",
            "\u001b[?25hRequirement already satisfied: filelock in /usr/local/lib/python3.7/dist-packages (from transformers>=4.19.0->whisper==1.0) (3.8.0)\n",
            "Requirement already satisfied: pyyaml>=5.1 in /usr/local/lib/python3.7/dist-packages (from transformers>=4.19.0->whisper==1.0) (6.0)\n",
            "Requirement already satisfied: importlib-metadata in /usr/local/lib/python3.7/dist-packages (from transformers>=4.19.0->whisper==1.0) (4.12.0)\n",
            "Requirement already satisfied: typing-extensions>=3.7.4.3 in /usr/local/lib/python3.7/dist-packages (from huggingface-hub<1.0,>=0.9.0->transformers>=4.19.0->whisper==1.0) (4.1.1)\n",
            "Requirement already satisfied: pyparsing!=3.0.5,>=2.0.2 in /usr/local/lib/python3.7/dist-packages (from packaging>=20.0->transformers>=4.19.0->whisper==1.0) (3.0.9)\n",
            "Requirement already satisfied: zipp>=0.5 in /usr/local/lib/python3.7/dist-packages (from importlib-metadata->transformers>=4.19.0->whisper==1.0) (3.8.1)\n",
            "Requirement already satisfied: certifi>=2017.4.17 in /usr/local/lib/python3.7/dist-packages (from requests->transformers>=4.19.0->whisper==1.0) (2022.6.15)\n",
            "Requirement already satisfied: idna<3,>=2.5 in /usr/local/lib/python3.7/dist-packages (from requests->transformers>=4.19.0->whisper==1.0) (2.10)\n",
            "Requirement already satisfied: urllib3!=1.25.0,!=1.25.1,<1.26,>=1.21.1 in /usr/local/lib/python3.7/dist-packages (from requests->transformers>=4.19.0->whisper==1.0) (1.24.3)\n",
            "Requirement already satisfied: chardet<4,>=3.0.2 in /usr/local/lib/python3.7/dist-packages (from requests->transformers>=4.19.0->whisper==1.0) (3.0.4)\n",
            "Building wheels for collected packages: whisper\n",
            "  Building wheel for whisper (setup.py) ... \u001b[?25l\u001b[?25hdone\n",
            "  Created wheel for whisper: filename=whisper-1.0-py3-none-any.whl size=1174001 sha256=c91ad658bfcfcf0973236181ff7579b1a481f544d33623f1940afa2124ce7b1f\n",
            "  Stored in directory: /tmp/pip-ephem-wheel-cache-x1v6qco5/wheels/16/15/89/1c7bb31bd0006793a95549d04785121a8a36daad9158e1e43a\n",
            "Successfully built whisper\n",
            "Installing collected packages: tokenizers, huggingface-hub, transformers, ffmpeg-python, whisper\n",
            "Successfully installed ffmpeg-python-0.2.0 huggingface-hub-0.9.1 tokenizers-0.12.1 transformers-4.22.1 whisper-1.0\n"
          ]
        }
      ],
      "source": [
        "! pip install git+https://github.com/openai/whisper.git"
      ]
    },
    {
      "cell_type": "code",
      "execution_count": null,
      "metadata": {
        "id": "3CqtR2Fi5-vP",
        "outputId": "bdca22b1-cfcc-408a-d2d4-2ecd10fb16b9",
        "colab": {
          "base_uri": "https://localhost:8080/",
          "height": 105,
          "referenced_widgets": [
            "2d8a7c2c26a144ddbbfee7a8001a1112",
            "7ae7513a572240e299e596e2010736d9",
            "9e89d66d513241d880ce17f2aa8fbcd4",
            "f3fd0dcd35064332950d44be2e5b9d17",
            "92f9b003d31845e6b5494240ec5418a6",
            "811d16130bff4ae9875d39272872fa8d",
            "520e30c405044f4ea69ed184924039d4",
            "c7f674df3e3d4d64891aa3ac34622190",
            "f72e382824f241a0bbbf142e711d3e4d",
            "4394162769504eb482a817eee5b79732",
            "164cd9a14b6f4e76b8601a90f50125d4"
          ]
        }
      },
      "outputs": [
        {
          "output_type": "stream",
          "name": "stderr",
          "text": [
            "The cache for model files in Transformers v4.22.0 has been updated. Migrating your old cache. This is a one-time only operation. You can interrupt this and resume the migration later on by calling `transformers.utils.move_cache()`.\n"
          ]
        },
        {
          "output_type": "stream",
          "name": "stdout",
          "text": [
            "Moving 0 files to the new cache system\n"
          ]
        },
        {
          "output_type": "display_data",
          "data": {
            "text/plain": [
              "0it [00:00, ?it/s]"
            ],
            "application/vnd.jupyter.widget-view+json": {
              "version_major": 2,
              "version_minor": 0,
              "model_id": "2d8a7c2c26a144ddbbfee7a8001a1112"
            }
          },
          "metadata": {}
        }
      ],
      "source": [
        "import io\n",
        "import os\n",
        "import numpy as np\n",
        "\n",
        "try:\n",
        "    import tensorflow  # required in Colab to avoid protobuf compatibility issues\n",
        "except ImportError:\n",
        "    pass\n",
        "\n",
        "import torch\n",
        "import pandas as pd\n",
        "import urllib\n",
        "import tarfile\n",
        "import whisper\n",
        "import torchaudio\n",
        "\n",
        "from scipy.io import wavfile\n",
        "from tqdm.notebook import tqdm\n",
        "\n",
        "\n",
        "pd.options.display.max_rows = 100\n",
        "pd.options.display.max_colwidth = 1000\n",
        "DEVICE = \"cuda\" if torch.cuda.is_available() else \"cpu\""
      ]
    },
    {
      "cell_type": "markdown",
      "metadata": {
        "id": "1IMEkgyagYto"
      },
      "source": [
        "# Record and transcribe"
      ]
    },
    {
      "cell_type": "code",
      "source": [
        "# from https://gist.github.com/korakot/c21c3476c024ad6d56d5f48b0bca92be\n",
        "from IPython.display import Javascript\n",
        "from google.colab import output\n",
        "from base64 import b64decode\n",
        "\n",
        "RECORD = \"\"\"\n",
        "const sleep  = time => new Promise(resolve => setTimeout(resolve, time))\n",
        "const b2text = blob => new Promise(resolve => {\n",
        "  const reader = new FileReader()\n",
        "  reader.onloadend = e => resolve(e.srcElement.result)\n",
        "  reader.readAsDataURL(blob)\n",
        "})\n",
        "var record = time => new Promise(async resolve => {\n",
        "  stream = await navigator.mediaDevices.getUserMedia({ audio: true })\n",
        "  recorder = new MediaRecorder(stream)\n",
        "  chunks = []\n",
        "  recorder.ondataavailable = e => chunks.push(e.data)\n",
        "  recorder.start()\n",
        "  await sleep(time)\n",
        "  recorder.onstop = async ()=>{\n",
        "    blob = new Blob(chunks)\n",
        "    text = await b2text(blob)\n",
        "    resolve(text)\n",
        "  }\n",
        "  recorder.stop()\n",
        "})\n",
        "\"\"\"\n",
        "\n",
        "def record(sec=10):\n",
        "  display(Javascript(RECORD))\n",
        "  s = output.eval_js('record(%d)' % (sec*1000))\n",
        "  b = b64decode(s.split(',')[1])\n",
        "  with open('audio.wav','wb') as f:\n",
        "    f.write(b)\n",
        "  return 'audio.wav'  # or webm ?"
      ],
      "metadata": {
        "id": "dVC_aIHLLRY2"
      },
      "execution_count": null,
      "outputs": []
    },
    {
      "cell_type": "code",
      "source": [
        "record()"
      ],
      "metadata": {
        "id": "c5wxZbIlLYaq",
        "outputId": "ff45f007-d94a-4904-f4f0-c68a9e4cf83f",
        "colab": {
          "base_uri": "https://localhost:8080/",
          "height": 35
        }
      },
      "execution_count": null,
      "outputs": [
        {
          "output_type": "display_data",
          "data": {
            "text/plain": [
              "<IPython.core.display.Javascript object>"
            ],
            "application/javascript": [
              "\n",
              "const sleep  = time => new Promise(resolve => setTimeout(resolve, time))\n",
              "const b2text = blob => new Promise(resolve => {\n",
              "  const reader = new FileReader()\n",
              "  reader.onloadend = e => resolve(e.srcElement.result)\n",
              "  reader.readAsDataURL(blob)\n",
              "})\n",
              "var record = time => new Promise(async resolve => {\n",
              "  stream = await navigator.mediaDevices.getUserMedia({ audio: true })\n",
              "  recorder = new MediaRecorder(stream)\n",
              "  chunks = []\n",
              "  recorder.ondataavailable = e => chunks.push(e.data)\n",
              "  recorder.start()\n",
              "  await sleep(time)\n",
              "  recorder.onstop = async ()=>{\n",
              "    blob = new Blob(chunks)\n",
              "    text = await b2text(blob)\n",
              "    resolve(text)\n",
              "  }\n",
              "  recorder.stop()\n",
              "})\n"
            ]
          },
          "metadata": {}
        },
        {
          "output_type": "execute_result",
          "data": {
            "text/plain": [
              "'audio.wav'"
            ],
            "application/vnd.google.colaboratory.intrinsic+json": {
              "type": "string"
            }
          },
          "metadata": {},
          "execution_count": 5
        }
      ]
    },
    {
      "cell_type": "code",
      "source": [
        "from IPython.display import Audio\n",
        "from IPython.display import display\n",
        "wn = Audio('audio.wav', autoplay=True) ##\n",
        "display(wn)##\n"
      ],
      "metadata": {
        "id": "TxM3sX66Lhtj",
        "outputId": "1f411353-792b-46fb-b1c7-f3098981ffd1",
        "colab": {
          "base_uri": "https://localhost:8080/",
          "height": 75
        }
      },
      "execution_count": null,
      "outputs": [
        {
          "output_type": "display_data",
          "data": {
            "text/plain": [
              "<IPython.lib.display.Audio object>"
            ],
            "text/html": [
              "\n",
              "                <audio  controls=\"controls\" autoplay=\"autoplay\">\n",
              "                    <source src=\"data:audio/x-wav;base64,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\" type=\"audio/x-wav\" />\n",
              "                    Your browser does not support the audio element.\n",
              "                </audio>\n",
              "              "
            ]
          },
          "metadata": {}
        }
      ]
    },
    {
      "cell_type": "code",
      "source": [
        "\n",
        "model = whisper.load_model(\"medium\")\n",
        "print(\n",
        "    f\"Model is {'multilingual' if model.is_multilingual else 'English-only'} \"\n",
        "    f\"and has {sum(np.prod(p.shape) for p in model.parameters()):,} parameters.\"\n",
        ")\n",
        "\n",
        "# load audio and pad/trim it to fit 30 seconds\n",
        "audio = whisper.load_audio(\"audio.wav\")\n",
        "audio = whisper.pad_or_trim(audio)\n",
        "\n",
        "# make log-Mel spectrogram and move to the same device as the model\n",
        "mel = whisper.log_mel_spectrogram(audio).to(model.device)\n",
        "\n",
        "# detect the spoken language\n",
        "_, probs = model.detect_language(mel)\n",
        "print(f\"Detected language: {max(probs, key=probs.get)}\")\n",
        "\n",
        "# decode the audio\n",
        "options = whisper.DecodingOptions()\n",
        "result = whisper.decode(model, mel, options)\n",
        "\n",
        "# print the recognized text\n",
        "print(result.text)"
      ],
      "metadata": {
        "id": "jCLtyUMjL3nR",
        "outputId": "600d077a-22dd-4307-9aec-9313a8159805",
        "colab": {
          "base_uri": "https://localhost:8080/"
        }
      },
      "execution_count": null,
      "outputs": [
        {
          "output_type": "stream",
          "name": "stderr",
          "text": [
            "100%|██████████████████████████████████████| 1.42G/1.42G [00:14<00:00, 103MiB/s]\n"
          ]
        },
        {
          "output_type": "stream",
          "name": "stdout",
          "text": [
            "Model is multilingual and has 762,321,920 parameters.\n",
            "Detected language: iw\n",
            "ועל פיסת החרס כתוב כך, לפעמים נדמה כאילו נכתבו כבר כל השירים כולם.\n"
          ]
        }
      ]
    },
    {
      "cell_type": "code",
      "source": [],
      "metadata": {
        "id": "6ppjOdWtM8gV"
      },
      "execution_count": null,
      "outputs": []
    }
  ],
  "metadata": {
    "accelerator": "GPU",
    "colab": {
      "collapsed_sections": [],
      "provenance": [],
      "include_colab_link": true
    },
    "gpuClass": "standard",
    "kernelspec": {
      "display_name": "Python 3 (ipykernel)",
      "language": "python",
      "name": "python3"
    },
    "language_info": {
      "codemirror_mode": {
        "name": "ipython",
        "version": 3
      },
      "file_extension": ".py",
      "mimetype": "text/x-python",
      "name": "python",
      "nbconvert_exporter": "python",
      "pygments_lexer": "ipython3",
      "version": "3.9.9"
    },
    "widgets": {
      "application/vnd.jupyter.widget-state+json": {
        "2d8a7c2c26a144ddbbfee7a8001a1112": {
          "model_module": "@jupyter-widgets/controls",
          "model_name": "HBoxModel",
          "model_module_version": "1.5.0",
          "state": {
            "_dom_classes": [],
            "_model_module": "@jupyter-widgets/controls",
            "_model_module_version": "1.5.0",
            "_model_name": "HBoxModel",
            "_view_count": null,
            "_view_module": "@jupyter-widgets/controls",
            "_view_module_version": "1.5.0",
            "_view_name": "HBoxView",
            "box_style": "",
            "children": [
              "IPY_MODEL_7ae7513a572240e299e596e2010736d9",
              "IPY_MODEL_9e89d66d513241d880ce17f2aa8fbcd4",
              "IPY_MODEL_f3fd0dcd35064332950d44be2e5b9d17"
            ],
            "layout": "IPY_MODEL_92f9b003d31845e6b5494240ec5418a6"
          }
        },
        "7ae7513a572240e299e596e2010736d9": {
          "model_module": "@jupyter-widgets/controls",
          "model_name": "HTMLModel",
          "model_module_version": "1.5.0",
          "state": {
            "_dom_classes": [],
            "_model_module": "@jupyter-widgets/controls",
            "_model_module_version": "1.5.0",
            "_model_name": "HTMLModel",
            "_view_count": null,
            "_view_module": "@jupyter-widgets/controls",
            "_view_module_version": "1.5.0",
            "_view_name": "HTMLView",
            "description": "",
            "description_tooltip": null,
            "layout": "IPY_MODEL_811d16130bff4ae9875d39272872fa8d",
            "placeholder": "​",
            "style": "IPY_MODEL_520e30c405044f4ea69ed184924039d4",
            "value": ""
          }
        },
        "9e89d66d513241d880ce17f2aa8fbcd4": {
          "model_module": "@jupyter-widgets/controls",
          "model_name": "FloatProgressModel",
          "model_module_version": "1.5.0",
          "state": {
            "_dom_classes": [],
            "_model_module": "@jupyter-widgets/controls",
            "_model_module_version": "1.5.0",
            "_model_name": "FloatProgressModel",
            "_view_count": null,
            "_view_module": "@jupyter-widgets/controls",
            "_view_module_version": "1.5.0",
            "_view_name": "ProgressView",
            "bar_style": "success",
            "description": "",
            "description_tooltip": null,
            "layout": "IPY_MODEL_c7f674df3e3d4d64891aa3ac34622190",
            "max": 1,
            "min": 0,
            "orientation": "horizontal",
            "style": "IPY_MODEL_f72e382824f241a0bbbf142e711d3e4d",
            "value": 0
          }
        },
        "f3fd0dcd35064332950d44be2e5b9d17": {
          "model_module": "@jupyter-widgets/controls",
          "model_name": "HTMLModel",
          "model_module_version": "1.5.0",
          "state": {
            "_dom_classes": [],
            "_model_module": "@jupyter-widgets/controls",
            "_model_module_version": "1.5.0",
            "_model_name": "HTMLModel",
            "_view_count": null,
            "_view_module": "@jupyter-widgets/controls",
            "_view_module_version": "1.5.0",
            "_view_name": "HTMLView",
            "description": "",
            "description_tooltip": null,
            "layout": "IPY_MODEL_4394162769504eb482a817eee5b79732",
            "placeholder": "​",
            "style": "IPY_MODEL_164cd9a14b6f4e76b8601a90f50125d4",
            "value": " 0/0 [00:00&lt;?, ?it/s]"
          }
        },
        "92f9b003d31845e6b5494240ec5418a6": {
          "model_module": "@jupyter-widgets/base",
          "model_name": "LayoutModel",
          "model_module_version": "1.2.0",
          "state": {
            "_model_module": "@jupyter-widgets/base",
            "_model_module_version": "1.2.0",
            "_model_name": "LayoutModel",
            "_view_count": null,
            "_view_module": "@jupyter-widgets/base",
            "_view_module_version": "1.2.0",
            "_view_name": "LayoutView",
            "align_content": null,
            "align_items": null,
            "align_self": null,
            "border": null,
            "bottom": null,
            "display": null,
            "flex": null,
            "flex_flow": null,
            "grid_area": null,
            "grid_auto_columns": null,
            "grid_auto_flow": null,
            "grid_auto_rows": null,
            "grid_column": null,
            "grid_gap": null,
            "grid_row": null,
            "grid_template_areas": null,
            "grid_template_columns": null,
            "grid_template_rows": null,
            "height": null,
            "justify_content": null,
            "justify_items": null,
            "left": null,
            "margin": null,
            "max_height": null,
            "max_width": null,
            "min_height": null,
            "min_width": null,
            "object_fit": null,
            "object_position": null,
            "order": null,
            "overflow": null,
            "overflow_x": null,
            "overflow_y": null,
            "padding": null,
            "right": null,
            "top": null,
            "visibility": null,
            "width": null
          }
        },
        "811d16130bff4ae9875d39272872fa8d": {
          "model_module": "@jupyter-widgets/base",
          "model_name": "LayoutModel",
          "model_module_version": "1.2.0",
          "state": {
            "_model_module": "@jupyter-widgets/base",
            "_model_module_version": "1.2.0",
            "_model_name": "LayoutModel",
            "_view_count": null,
            "_view_module": "@jupyter-widgets/base",
            "_view_module_version": "1.2.0",
            "_view_name": "LayoutView",
            "align_content": null,
            "align_items": null,
            "align_self": null,
            "border": null,
            "bottom": null,
            "display": null,
            "flex": null,
            "flex_flow": null,
            "grid_area": null,
            "grid_auto_columns": null,
            "grid_auto_flow": null,
            "grid_auto_rows": null,
            "grid_column": null,
            "grid_gap": null,
            "grid_row": null,
            "grid_template_areas": null,
            "grid_template_columns": null,
            "grid_template_rows": null,
            "height": null,
            "justify_content": null,
            "justify_items": null,
            "left": null,
            "margin": null,
            "max_height": null,
            "max_width": null,
            "min_height": null,
            "min_width": null,
            "object_fit": null,
            "object_position": null,
            "order": null,
            "overflow": null,
            "overflow_x": null,
            "overflow_y": null,
            "padding": null,
            "right": null,
            "top": null,
            "visibility": null,
            "width": null
          }
        },
        "520e30c405044f4ea69ed184924039d4": {
          "model_module": "@jupyter-widgets/controls",
          "model_name": "DescriptionStyleModel",
          "model_module_version": "1.5.0",
          "state": {
            "_model_module": "@jupyter-widgets/controls",
            "_model_module_version": "1.5.0",
            "_model_name": "DescriptionStyleModel",
            "_view_count": null,
            "_view_module": "@jupyter-widgets/base",
            "_view_module_version": "1.2.0",
            "_view_name": "StyleView",
            "description_width": ""
          }
        },
        "c7f674df3e3d4d64891aa3ac34622190": {
          "model_module": "@jupyter-widgets/base",
          "model_name": "LayoutModel",
          "model_module_version": "1.2.0",
          "state": {
            "_model_module": "@jupyter-widgets/base",
            "_model_module_version": "1.2.0",
            "_model_name": "LayoutModel",
            "_view_count": null,
            "_view_module": "@jupyter-widgets/base",
            "_view_module_version": "1.2.0",
            "_view_name": "LayoutView",
            "align_content": null,
            "align_items": null,
            "align_self": null,
            "border": null,
            "bottom": null,
            "display": null,
            "flex": null,
            "flex_flow": null,
            "grid_area": null,
            "grid_auto_columns": null,
            "grid_auto_flow": null,
            "grid_auto_rows": null,
            "grid_column": null,
            "grid_gap": null,
            "grid_row": null,
            "grid_template_areas": null,
            "grid_template_columns": null,
            "grid_template_rows": null,
            "height": null,
            "justify_content": null,
            "justify_items": null,
            "left": null,
            "margin": null,
            "max_height": null,
            "max_width": null,
            "min_height": null,
            "min_width": null,
            "object_fit": null,
            "object_position": null,
            "order": null,
            "overflow": null,
            "overflow_x": null,
            "overflow_y": null,
            "padding": null,
            "right": null,
            "top": null,
            "visibility": null,
            "width": "20px"
          }
        },
        "f72e382824f241a0bbbf142e711d3e4d": {
          "model_module": "@jupyter-widgets/controls",
          "model_name": "ProgressStyleModel",
          "model_module_version": "1.5.0",
          "state": {
            "_model_module": "@jupyter-widgets/controls",
            "_model_module_version": "1.5.0",
            "_model_name": "ProgressStyleModel",
            "_view_count": null,
            "_view_module": "@jupyter-widgets/base",
            "_view_module_version": "1.2.0",
            "_view_name": "StyleView",
            "bar_color": null,
            "description_width": ""
          }
        },
        "4394162769504eb482a817eee5b79732": {
          "model_module": "@jupyter-widgets/base",
          "model_name": "LayoutModel",
          "model_module_version": "1.2.0",
          "state": {
            "_model_module": "@jupyter-widgets/base",
            "_model_module_version": "1.2.0",
            "_model_name": "LayoutModel",
            "_view_count": null,
            "_view_module": "@jupyter-widgets/base",
            "_view_module_version": "1.2.0",
            "_view_name": "LayoutView",
            "align_content": null,
            "align_items": null,
            "align_self": null,
            "border": null,
            "bottom": null,
            "display": null,
            "flex": null,
            "flex_flow": null,
            "grid_area": null,
            "grid_auto_columns": null,
            "grid_auto_flow": null,
            "grid_auto_rows": null,
            "grid_column": null,
            "grid_gap": null,
            "grid_row": null,
            "grid_template_areas": null,
            "grid_template_columns": null,
            "grid_template_rows": null,
            "height": null,
            "justify_content": null,
            "justify_items": null,
            "left": null,
            "margin": null,
            "max_height": null,
            "max_width": null,
            "min_height": null,
            "min_width": null,
            "object_fit": null,
            "object_position": null,
            "order": null,
            "overflow": null,
            "overflow_x": null,
            "overflow_y": null,
            "padding": null,
            "right": null,
            "top": null,
            "visibility": null,
            "width": null
          }
        },
        "164cd9a14b6f4e76b8601a90f50125d4": {
          "model_module": "@jupyter-widgets/controls",
          "model_name": "DescriptionStyleModel",
          "model_module_version": "1.5.0",
          "state": {
            "_model_module": "@jupyter-widgets/controls",
            "_model_module_version": "1.5.0",
            "_model_name": "DescriptionStyleModel",
            "_view_count": null,
            "_view_module": "@jupyter-widgets/base",
            "_view_module_version": "1.2.0",
            "_view_name": "StyleView",
            "description_width": ""
          }
        }
      }
    }
  },
  "nbformat": 4,
  "nbformat_minor": 0
}